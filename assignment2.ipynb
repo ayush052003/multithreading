{
 "cells": [
  {
   "cell_type": "code",
   "execution_count": 15,
   "id": "f20fb017-dc4d-4b6b-9256-73dd22b6f600",
   "metadata": {},
   "outputs": [
    {
     "data": {
      "text/plain": [
       "'Q1.What is multithreading in python? Why is it used? Name the module used to handle threads in python.'"
      ]
     },
     "execution_count": 15,
     "metadata": {},
     "output_type": "execute_result"
    }
   ],
   "source": [
    "'''Q1.What is multithreading in python? Why is it used? Name the module used to handle threads in python.'''"
   ]
  },
  {
   "cell_type": "code",
   "execution_count": 16,
   "id": "3f67ebbd-87e2-4e1a-9e64-9daeef537768",
   "metadata": {},
   "outputs": [],
   "source": [
    "# *Multithreading is defined as the ability of a processor to execute multiple threads concurrently.\n",
    "\n",
    "# *In a simple, single-core CPU, it is achieved using frequent switching between threads. This is termed as context switching. In context \n",
    "# switching, the state of a thread is saved and state of another thread is loaded whenever any interrupt (due to I/O or manually set) takes\n",
    "# place. Context switching takes place so frequently that all the threads appear to be running parallelly (this is termed as multitasking).\n"
   ]
  },
  {
   "cell_type": "code",
   "execution_count": 18,
   "id": "3a82fc90-50bb-4f1a-90f9-185b7316ccc5",
   "metadata": {},
   "outputs": [
    {
     "name": "stdout",
     "output_type": "stream",
     "text": [
      "Square: 100\n",
      "Cube: 1000\n",
      "Done\n"
     ]
    }
   ],
   "source": [
    "import threading\n",
    " \n",
    " \n",
    "def print_cube(num):\n",
    "    print(\"Cube: {}\" .format(num * num * num))\n",
    " \n",
    " \n",
    "def print_square(num):\n",
    "    print(\"Square: {}\" .format(num * num))\n",
    " \n",
    " \n",
    "if __name__ ==\"__main__\":\n",
    "\n",
    "    t1 = threading.Thread(target=print_square, args=(10,))\n",
    "    t2 = threading.Thread(target=print_cube, args=(10,))\n",
    "    t1.start()\n",
    "    t2.start()\n",
    "    t1.join()\n",
    "    t2.join()\n",
    " \n",
    "    # both threads completely executed\n",
    "    print(\"Done\")\n",
    "    "
   ]
  },
  {
   "cell_type": "code",
   "execution_count": 19,
   "id": "e3aabb41-0dcb-4b16-96fc-bc2cf3e75aa2",
   "metadata": {},
   "outputs": [
    {
     "data": {
      "text/plain": [
       "'Q2.Why threading module used? Write the use of the following functions\\n# activeCount()\\n# currentThread()\\n# enumerate()'"
      ]
     },
     "execution_count": 19,
     "metadata": {},
     "output_type": "execute_result"
    }
   ],
   "source": [
    "'''Q2.Why threading module used? Write the use of the following functions\n",
    "# activeCount()\n",
    "# currentThread()\n",
    "# enumerate()'''"
   ]
  },
  {
   "cell_type": "code",
   "execution_count": 21,
   "id": "ee0beb94-81fa-4e2f-9999-6c69812d7718",
   "metadata": {},
   "outputs": [
    {
     "name": "stdout",
     "output_type": "stream",
     "text": [
      "The Number of active Threads: 11\n",
      "The Number of active Threads: 9\n"
     ]
    }
   ],
   "source": [
    "#*threading.activeCount() − Returns the number of thread objects that are active.\n",
    "\n",
    "import time\n",
    "from threading import *\n",
    "def test(id) :\n",
    "    for i in range(id):\n",
    "        time.sleep(0.5)\n",
    "\n",
    "thred = [Thread(target=test , args = (i,)) for i in [10 , 2 , 5]]\n",
    "for t in thred:\n",
    "    t.start()\n",
    "print(\"The Number of active Threads:\",active_count())\n",
    "time.sleep(3)\n",
    "print(\"The Number of active Threads:\",active_count())"
   ]
  },
  {
   "cell_type": "code",
   "execution_count": 22,
   "id": "31fd66e6-bf91-432e-98c6-5a446328685a",
   "metadata": {},
   "outputs": [
    {
     "name": "stdout",
     "output_type": "stream",
     "text": [
      "Current Executing Thread: MainThread\n"
     ]
    },
    {
     "name": "stderr",
     "output_type": "stream",
     "text": [
      "/tmp/ipykernel_1522/2604624123.py:4: DeprecationWarning: getName() is deprecated, get the name attribute instead\n",
      "  print(\"Current Executing Thread:\",threading.current_thread().getName())\n"
     ]
    }
   ],
   "source": [
    "#*threading.currentThread() − Returns the number of thread objects in the caller's thread control.\n",
    "\n",
    "import threading\n",
    "print(\"Current Executing Thread:\",threading.current_thread().getName())"
   ]
  },
  {
   "cell_type": "code",
   "execution_count": 24,
   "id": "39aad626-130e-4361-af8c-3b7b3e788762",
   "metadata": {},
   "outputs": [
    {
     "name": "stdout",
     "output_type": "stream",
     "text": [
      "<_MainThread(MainThread, started 140449301497664)>\n",
      "<Thread(IOPub, started daemon 140449230968384)>\n",
      "<Heartbeat(Heartbeat, started daemon 140449222575680)>\n",
      "<Thread(Thread-3 (_watch_pipe_fd), started daemon 140449197397568)>\n",
      "<Thread(Thread-4 (_watch_pipe_fd), started daemon 140448853128768)>\n",
      "<ControlThread(Control, started daemon 140448844736064)>\n",
      "<HistorySavingThread(IPythonHistorySavingThread, started 140448836343360)>\n",
      "<ParentPollerUnix(Thread-2, started daemon 140448826902080)>\n"
     ]
    }
   ],
   "source": [
    "#*threading.enumerate() − Returns a list of all thread objects that are currently active.\n",
    "\n",
    "from threading import *\n",
    "threads =enumerate()\n",
    "for i in threads:\n",
    "    print(i)"
   ]
  },
  {
   "cell_type": "code",
   "execution_count": 25,
   "id": "5bd09a0b-33fd-4ed5-8294-5e587fdf151a",
   "metadata": {},
   "outputs": [
    {
     "data": {
      "text/plain": [
       "'Q3) Explain the following functions\\n1.run\\n2.start\\n3.join\\n4.isAlive)'"
      ]
     },
     "execution_count": 25,
     "metadata": {},
     "output_type": "execute_result"
    }
   ],
   "source": [
    "'''Q3) Explain the following functions\n",
    "1.run\n",
    "2.start\n",
    "3.join\n",
    "4.isAlive)'''"
   ]
  },
  {
   "cell_type": "code",
   "execution_count": 27,
   "id": "2042035b-80d1-4384-9cfa-4c50d23da42d",
   "metadata": {},
   "outputs": [
    {
     "name": "stdout",
     "output_type": "stream",
     "text": [
      "kawasaki ninja zx10-r\n"
     ]
    }
   ],
   "source": [
    "# run() -− The run() method is the entry point for a thread.\n",
    "\n",
    "import threading\n",
    "\n",
    "class CustomThread(threading.Thread):\n",
    "  def run(self):\n",
    "    print(\"kawasaki ninja zx10-r\")\n",
    "\n",
    "custom_thread = CustomThread()\n",
    "custom_thread.start()"
   ]
  },
  {
   "cell_type": "code",
   "execution_count": 28,
   "id": "571dacbc-65a5-4aff-b83e-cd44dd82f592",
   "metadata": {},
   "outputs": [],
   "source": [
    "# start()  -− The start() method starts a thread by calling the run method."
   ]
  },
  {
   "cell_type": "code",
   "execution_count": 29,
   "id": "cef144da-e363-44ad-9bc2-ae7ffc26974e",
   "metadata": {},
   "outputs": [
    {
     "name": "stdout",
     "output_type": "stream",
     "text": [
      "[25, 4, 9]\n",
      "[125, 8, 27]\n"
     ]
    }
   ],
   "source": [
    "#join([time])  -− The join() waits for threads to terminate.\n",
    "\n",
    "from threading import *\n",
    "\n",
    "def square(nlist):\n",
    "    print([i*i for i in nlist])\n",
    "\n",
    "def cube(nlist):\n",
    "    print([i*i*i for i in nlist])\n",
    "    \n",
    "nlist = [5 , 2 , 3]\n",
    "t1 = Thread(target=square , args = (nlist,))\n",
    "t2 = Thread(target=cube , args = (nlist,))\n",
    "t1.start()\n",
    "t2.start()"
   ]
  },
  {
   "cell_type": "code",
   "execution_count": 31,
   "id": "1d047001-1d83-40a7-9bbb-d6037906d560",
   "metadata": {},
   "outputs": [
    {
     "name": "stdout",
     "output_type": "stream",
     "text": [
      "Thread alive? True\n",
      "Counting down...\n",
      "5 left\n",
      "4 left\n",
      "3 left\n",
      "2 left\n",
      "1 left\n",
      "We made it!\n",
      "Thread still alive? False\n",
      "End of program\n"
     ]
    }
   ],
   "source": [
    "#isAlive()  -− The isAlive() method checks whether a thread is still executing.\n",
    "\n",
    "import threading\n",
    "\n",
    "def countdown(count):\n",
    "  print(f'Thread alive? {thread.is_alive()}')\n",
    "  print(\"Counting down...\")\n",
    "  while count > 0:\n",
    "    print(f'{count} left')\n",
    "    count -= 1\n",
    "  print(\"We made it!\")\n",
    "\n",
    "thread = threading.Thread(target=countdown, args=(5,))\n",
    "\n",
    "thread.start()\n",
    "thread.join()\n",
    "\n",
    "print(f'Thread still alive? {thread.is_alive()}')\n",
    "print(\"End of program\")"
   ]
  },
  {
   "cell_type": "code",
   "execution_count": 32,
   "id": "50c72c90-7377-4b67-b539-d8d497cbad08",
   "metadata": {},
   "outputs": [
    {
     "data": {
      "text/plain": [
       "'Q4. rite a python program to create two threads. Thread one must print the list of squares and thread\\ntwo must print the list of cubes'"
      ]
     },
     "execution_count": 32,
     "metadata": {},
     "output_type": "execute_result"
    }
   ],
   "source": [
    "'''Q4. rite a python program to create two threads. Thread one must print the list of squares and thread\n",
    "two must print the list of cubes'''\n"
   ]
  },
  {
   "cell_type": "code",
   "execution_count": 33,
   "id": "559207e1-05e3-4fb1-9aa4-d5f06ea5a137",
   "metadata": {},
   "outputs": [
    {
     "name": "stdout",
     "output_type": "stream",
     "text": [
      "[25, 4, 9]\n",
      "[125, 8, 27]\n"
     ]
    }
   ],
   "source": [
    "from threading import *\n",
    "\n",
    "def square(list1):\n",
    "    print([i*i for i in list1])\n",
    "\n",
    "def cube(list1):\n",
    "    print([i*i*i for i in list1])\n",
    "    \n",
    "list1 = [5 , 2 , 3]\n",
    "t1 = Thread(target=square , args = (list1,))\n",
    "t2 = Thread(target=cube , args = (list1,))\n",
    "t1.start()\n",
    "t2.start()"
   ]
  },
  {
   "cell_type": "code",
   "execution_count": 34,
   "id": "6c6b2571-207e-400e-8f8b-919b8c6643e4",
   "metadata": {},
   "outputs": [
    {
     "data": {
      "text/plain": [
       "'Q5. State advantages and disadvantages of multithreading'"
      ]
     },
     "execution_count": 34,
     "metadata": {},
     "output_type": "execute_result"
    }
   ],
   "source": [
    "'''Q5. State advantages and disadvantages of multithreading'''"
   ]
  },
  {
   "cell_type": "code",
   "execution_count": 35,
   "id": "13df7c25-949e-4e1b-84a2-e0d3d1fd480c",
   "metadata": {},
   "outputs": [
    {
     "data": {
      "text/plain": [
       "'Following are some of the common advantages of multithreading:'"
      ]
     },
     "execution_count": 35,
     "metadata": {},
     "output_type": "execute_result"
    }
   ],
   "source": [
    "'''Following are some of the common advantages of multithreading:'''\n"
   ]
  },
  {
   "cell_type": "code",
   "execution_count": 36,
   "id": "fd959dcb-5d2b-42b6-b2ce-37e235feadab",
   "metadata": {},
   "outputs": [],
   "source": [
    "# *Enhanced performance by decreased development time\n",
    "# *Simplified and streamlined program coding\n",
    "# *Improvised GUI responsiveness\n",
    "# *Simultaneous and parallelized occurrence of tasks\n",
    "# *Better use of cache storage by utilization of resources\n",
    "# *Decreased cost of maintenance\n",
    "# *Better use of CPU resource"
   ]
  },
  {
   "cell_type": "code",
   "execution_count": 37,
   "id": "f3771ec6-b1f4-4502-8798-d3a846d1c4ab",
   "metadata": {},
   "outputs": [
    {
     "data": {
      "text/plain": [
       "'Disadvantages of multithreading:'"
      ]
     },
     "execution_count": 37,
     "metadata": {},
     "output_type": "execute_result"
    }
   ],
   "source": [
    "'''Disadvantages of multithreading:'''"
   ]
  },
  {
   "cell_type": "code",
   "execution_count": 38,
   "id": "9ee75210-a4f1-490a-85ba-cfa8e3302fe7",
   "metadata": {},
   "outputs": [],
   "source": [
    "# *Complex debugging and testing processes\n",
    "# *Overhead switching of context\n",
    "# *Increased potential for deadlock occurrence\n",
    "# *Increased difficulty level in writing a program\n",
    "# *Unpredictable result\n"
   ]
  },
  {
   "cell_type": "code",
   "execution_count": 39,
   "id": "e92ada8e-7e43-4d5a-80a4-29b0026e1798",
   "metadata": {},
   "outputs": [
    {
     "data": {
      "text/plain": [
       "'Q6. Explain deadlocks and race conditions.'"
      ]
     },
     "execution_count": 39,
     "metadata": {},
     "output_type": "execute_result"
    }
   ],
   "source": [
    "'''Q6. Explain deadlocks and race conditions.'''"
   ]
  },
  {
   "cell_type": "code",
   "execution_count": null,
   "id": "98f91e6d-8df6-4a72-ab66-6ca130b45ba7",
   "metadata": {},
   "outputs": [],
   "source": []
  }
 ],
 "metadata": {
  "kernelspec": {
   "display_name": "Python 3 (ipykernel)",
   "language": "python",
   "name": "python3"
  },
  "language_info": {
   "codemirror_mode": {
    "name": "ipython",
    "version": 3
   },
   "file_extension": ".py",
   "mimetype": "text/x-python",
   "name": "python",
   "nbconvert_exporter": "python",
   "pygments_lexer": "ipython3",
   "version": "3.10.8"
  }
 },
 "nbformat": 4,
 "nbformat_minor": 5
}
